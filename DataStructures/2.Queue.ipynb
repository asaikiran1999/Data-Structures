{
  "nbformat": 4,
  "nbformat_minor": 0,
  "metadata": {
    "colab": {
      "name": "Queue.ipynb",
      "provenance": [],
      "collapsed_sections": []
    },
    "kernelspec": {
      "name": "python3",
      "display_name": "Python 3"
    },
    "language_info": {
      "name": "python"
    }
  },
  "cells": [
    {
      "cell_type": "markdown",
      "source": [
        "#**QUEUE** "
      ],
      "metadata": {
        "id": "lgGTUk4UfkVq"
      }
    },
    {
      "cell_type": "markdown",
      "source": [
        "It follows **FIFO** - **First in first out**."
      ],
      "metadata": {
        "id": "X2ssxkPafqw_"
      }
    },
    {
      "cell_type": "markdown",
      "source": [
        "Implimentation of queue using **list**."
      ],
      "metadata": {
        "id": "vedHFFy0gDt5"
      }
    },
    {
      "cell_type": "code",
      "execution_count": 5,
      "metadata": {
        "id": "Jh7iWqMbfjIu"
      },
      "outputs": [],
      "source": [
        "queue = []\n",
        "length=10\n",
        "def lenth():\n",
        "  y = int(input())\n",
        "  length = y\n",
        "def enqueue(x):\n",
        "  if length>=len(queue):\n",
        "    queue.append(x)\n",
        "  else:\n",
        "    print('queue is full')\n",
        "def dequeue():\n",
        "  if length==0:\n",
        "    print('queue is empty')\n",
        "  else:\n",
        "    queue.pop(0)\n",
        "def display():\n",
        "  print(queue)\n"
      ]
    },
    {
      "cell_type": "code",
      "source": [
        "while True :\n",
        "  print('1.display queue')\n",
        "  print('2.change the length of queue')\n",
        "  print('3.enqueue')\n",
        "  print('4.dequeue')\n",
        "  print('5.stop')\n",
        "  x=int(input('choose the choice: '))\n",
        "  if x==1:\n",
        "    display()\n",
        "  elif x==2:\n",
        "    lenth()\n",
        "  elif x==3:\n",
        "    enter =int(input('enter number : '))\n",
        "    enqueue(enter)\n",
        "  elif x==4:\n",
        "    dequeue()\n",
        "  else:\n",
        "    break;"
      ],
      "metadata": {
        "colab": {
          "base_uri": "https://localhost:8080/"
        },
        "id": "KdNsU_g5iGP7",
        "outputId": "bad3babd-5ec4-4495-cec0-0df33d56e429"
      },
      "execution_count": 9,
      "outputs": [
        {
          "name": "stdout",
          "output_type": "stream",
          "text": [
            "1.display queue\n",
            "2.change the length of queue\n",
            "3.enqueue\n",
            "4.dequeue\n",
            "5.stop\n",
            "choose the choice: 2\n",
            "3\n",
            "1.display queue\n",
            "2.change the length of queue\n",
            "3.enqueue\n",
            "4.dequeue\n",
            "5.stop\n",
            "choose the choice: 3\n",
            "enter number : 4\n",
            "1.display queue\n",
            "2.change the length of queue\n",
            "3.enqueue\n",
            "4.dequeue\n",
            "5.stop\n",
            "choose the choice: 1\n",
            "[10, 20, 80, 90, 4]\n",
            "1.display queue\n",
            "2.change the length of queue\n",
            "3.enqueue\n",
            "4.dequeue\n",
            "5.stop\n",
            "choose the choice: 5\n"
          ]
        }
      ]
    },
    {
      "cell_type": "markdown",
      "source": [
        "2.Implemntation of queue using **imported package**"
      ],
      "metadata": {
        "id": "72hD_Kdw6YO9"
      }
    },
    {
      "cell_type": "code",
      "source": [
        "import collections as cl\n",
        "q=cl.deque()\n",
        "q.append(20)\n",
        "print(q)\n",
        "q.append(30)\n",
        "q.append(40)\n",
        "print(q)\n",
        "q.popleft()\n",
        "print(q)"
      ],
      "metadata": {
        "colab": {
          "base_uri": "https://localhost:8080/"
        },
        "id": "YVCHUgNB40Nk",
        "outputId": "f5ab7bb1-2a66-43b0-be16-d1c73d280d3f"
      },
      "execution_count": 13,
      "outputs": [
        {
          "output_type": "stream",
          "name": "stdout",
          "text": [
            "deque([20])\n",
            "deque([20, 30, 40])\n",
            "deque([30, 40])\n"
          ]
        }
      ]
    },
    {
      "cell_type": "code",
      "source": [
        ""
      ],
      "metadata": {
        "id": "CPpmavPx9smv"
      },
      "execution_count": null,
      "outputs": []
    }
  ]
}